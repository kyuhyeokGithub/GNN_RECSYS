{
 "cells": [
  {
   "cell_type": "code",
   "execution_count": 1,
   "id": "406fb92c",
   "metadata": {},
   "outputs": [],
   "source": [
    "import pandas as pd\n",
    "import numpy as np\n",
    "import scipy as sp\n",
    "from sklearn.metrics.pairwise import cosine_similarity\n",
    "import operator\n",
    "\n",
    "rating = pd.read_csv('occf_data')\n"
   ]
  },
  {
   "cell_type": "code",
   "execution_count": 8,
   "id": "3af3fd81",
   "metadata": {},
   "outputs": [
    {
     "data": {
      "text/html": [
       "<div>\n",
       "<style scoped>\n",
       "    .dataframe tbody tr th:only-of-type {\n",
       "        vertical-align: middle;\n",
       "    }\n",
       "\n",
       "    .dataframe tbody tr th {\n",
       "        vertical-align: top;\n",
       "    }\n",
       "\n",
       "    .dataframe thead th {\n",
       "        text-align: right;\n",
       "    }\n",
       "</style>\n",
       "<table border=\"1\" class=\"dataframe\">\n",
       "  <thead>\n",
       "    <tr style=\"text-align: right;\">\n",
       "      <th></th>\n",
       "      <th>watched_episodes</th>\n",
       "      <th>user_id</th>\n",
       "      <th>anime_id</th>\n",
       "    </tr>\n",
       "    <tr>\n",
       "      <th>index</th>\n",
       "      <th></th>\n",
       "      <th></th>\n",
       "      <th></th>\n",
       "    </tr>\n",
       "  </thead>\n",
       "  <tbody>\n",
       "    <tr>\n",
       "      <th>0</th>\n",
       "      <td>1</td>\n",
       "      <td>1</td>\n",
       "      <td>29</td>\n",
       "    </tr>\n",
       "    <tr>\n",
       "      <th>1</th>\n",
       "      <td>4</td>\n",
       "      <td>1</td>\n",
       "      <td>318</td>\n",
       "    </tr>\n",
       "    <tr>\n",
       "      <th>2</th>\n",
       "      <td>1</td>\n",
       "      <td>1</td>\n",
       "      <td>262</td>\n",
       "    </tr>\n",
       "    <tr>\n",
       "      <th>3</th>\n",
       "      <td>5</td>\n",
       "      <td>1</td>\n",
       "      <td>9</td>\n",
       "    </tr>\n",
       "    <tr>\n",
       "      <th>4</th>\n",
       "      <td>4</td>\n",
       "      <td>1</td>\n",
       "      <td>185</td>\n",
       "    </tr>\n",
       "  </tbody>\n",
       "</table>\n",
       "</div>"
      ],
      "text/plain": [
       "       watched_episodes  user_id  anime_id\n",
       "index                                     \n",
       "0                     1        1        29\n",
       "1                     4        1       318\n",
       "2                     1        1       262\n",
       "3                     5        1         9\n",
       "4                     4        1       185"
      ]
     },
     "execution_count": 8,
     "metadata": {},
     "output_type": "execute_result"
    }
   ],
   "source": [
    "\n",
    "rating.index.name = 'index'\n",
    "rating.head()"
   ]
  },
  {
   "cell_type": "code",
   "execution_count": 25,
   "id": "a0b602fc",
   "metadata": {},
   "outputs": [
    {
     "name": "stdout",
     "output_type": "stream",
     "text": [
      "       watched_episodes  user_id  anime_id\n",
      "index                                     \n",
      "0                     1        1        29\n",
      "5                     4        1       254\n",
      "10                   51        1        40\n",
      "15                    1        1       144\n",
      "20                  220        1         6\n"
     ]
    }
   ],
   "source": [
    "test_df = rating.loc[range(0,63487,3)]\n",
    "print(test_df.head())"
   ]
  },
  {
   "cell_type": "code",
   "execution_count": 26,
   "id": "18bdc422",
   "metadata": {},
   "outputs": [],
   "source": [
    "train1 = rating.loc[range(1,63487,3)]\n",
    "train2 = rating.loc[range(2,63487,3)]\n",
    "\n",
    "train_df = pd.concat([train1, train2])"
   ]
  },
  {
   "cell_type": "code",
   "execution_count": 39,
   "id": "5456e80d",
   "metadata": {},
   "outputs": [
    {
     "name": "stdout",
     "output_type": "stream",
     "text": [
      "watched_episodes    965\n",
      "user_id             433\n",
      "anime_id            999\n",
      "dtype: int64\n",
      "watched_episodes    975\n",
      "user_id             433\n",
      "anime_id            999\n",
      "dtype: int64\n"
     ]
    }
   ],
   "source": [
    "print(train_df.max(axis = 0))\n",
    "print(test_df.max(axis = 0))"
   ]
  },
  {
   "cell_type": "code",
   "execution_count": 47,
   "id": "5885d4be",
   "metadata": {},
   "outputs": [],
   "source": [
    "train = np.zeros((433,999))\n",
    "test = np.zeros((433,999))\n",
    "\n",
    "for row in range(0, len(train_df)):\n",
    "    u_id, a_id = train_df['user_id'].iloc[row], train_df['anime_id'].iloc[row]\n",
    "    train[u_id-1][a_id-1]=train_df['watched_episodes'].iloc[row]\n",
    "for row in range(0, len(test_df)):\n",
    "    u_id, a_id = test_df['user_id'].iloc[row], test_df['anime_id'].iloc[row]\n",
    "    test[u_id-1][a_id-1]=test_df['watched_episodes'].iloc[row]\n"
   ]
  },
  {
   "cell_type": "code",
   "execution_count": 48,
   "id": "f1b00ae6",
   "metadata": {},
   "outputs": [
    {
     "name": "stdout",
     "output_type": "stream",
     "text": [
      "[[ 0.  0.  0. ...  0.  0.  0.]\n",
      " [ 0.  0.  0. ...  0.  2.  0.]\n",
      " [ 0.  0.  0. ...  0.  0.  0.]\n",
      " ...\n",
      " [26.  1.  0. ...  0.  0.  0.]\n",
      " [ 0.  0.  0. ...  0.  0.  0.]\n",
      " [ 0.  0.  0. ...  0.  0.  0.]]\n"
     ]
    }
   ],
   "source": [
    "from scipy import sparse\n",
    "train = np.asmatrix(train)\n",
    "test = np.asmatrix(test)\n",
    "\n",
    "print(train)"
   ]
  },
  {
   "cell_type": "code",
   "execution_count": 86,
   "id": "dae9d14d",
   "metadata": {},
   "outputs": [],
   "source": [
    "from collections import defaultdict\n",
    "from datetime import datetime\n",
    "\n",
    "class OCCF():\n",
    "    def __init__(self, train, test, f, print_each):\n",
    "        \n",
    "        self.weight = 0.1\n",
    "        self.alpha = 40\n",
    "        self.n_iter = 10\n",
    "        self.print = print_each\n",
    "        \n",
    "        self.f = f\n",
    "        self.no_user = train.shape[0]\n",
    "        self.no_item = train.shape[1]\n",
    "        self.R = train\n",
    "        self.R_test = test\n",
    "        self.P = np.array(train>0, dtype=np.float16)\n",
    "        self.P_test = np.array(test>0, dtype=np.float16)\n",
    "        \n",
    "        self.C = self.R * self.alpha + 1\n",
    "        self.Ci = np.zeros((self.no_user, self.no_user))\n",
    "        self.Cu = np.zeros((self.no_item, self.no_item))\n",
    "        \n",
    "        self.X = np.random.standard_normal((self.no_user, f))\n",
    "        self.Y = np.random.standard_normal((self.no_item, f))\n",
    "        \n",
    "        self.loss = defaultdict(float)\n",
    "        self.loss_test = defaultdict(float)\n",
    "        \n",
    "    def pred_v(self):\n",
    "        return np.dot(self.X, self.Y.T)\n",
    "    \n",
    "    def upd_X(self, u, YtY):\n",
    "        \n",
    "        np.fill_diagonal(self.Cu, (self.C[u, :] - 1))\n",
    "        comp1 = YtY\n",
    "        comp2 = np.dot(self.Y.T, self.Cu).dot(self.Y)\n",
    "        comp3 = np.identity(self.f) * self.weight\n",
    "        comp = np.linalg.inv(comp1 + comp2 + comp3)\n",
    "        comp = np.dot(comp, self.Y.T).dot(self.Cu)\n",
    "        \n",
    "        return np.dot(comp, self.P[u, :])\n",
    "    \n",
    "    def upd_Y(self, i, XtX):\n",
    "        \n",
    "        np.fill_diagonal(self.Ci, (self.C[:, i] - 1))\n",
    "        comp1 = XtX\n",
    "        comp2 = np.dot(self.X.T, self.Ci).dot(self.X)\n",
    "        comp3 = np.identity(self.f) * self.weight\n",
    "        comp = np.linalg.inv(comp1 + comp2 + comp3)\n",
    "        comp = np.dot(comp, self.X.T).dot(self.Ci)\n",
    "        \n",
    "        return np.dot(comp, self.P[:, i])\n",
    "    \n",
    "    def optimize(self):\n",
    "        \n",
    "        start = datetime.now()\n",
    "        for it in range(self.n_iter):\n",
    "            \n",
    "            start_iter = datetime.now()\n",
    "            \n",
    "            for u in range(self.no_user):\n",
    "                YtY = np.dot(self.Y.T, self.Y)\n",
    "                self.X[u, :] = self.upd_X(u, YtY)\n",
    "\n",
    "            for i in range(self.no_item):\n",
    "                XtX = np.dot(self.X.T, self.X)\n",
    "                self.Y[i, :] = self.upd_Y(i, XtX)\n",
    "        \n",
    "            loss1 = self.evaluate(type = 'Train')\n",
    "            loss2 = self.evaluate(type = 'Test')\n",
    "\n",
    "            self.loss[it] = loss1\n",
    "            self.loss_test[it] = loss2\n",
    "            \n",
    "            if self.print:\n",
    "                print(f'EPOCH {it+1} : Training RANK {self.loss[it]:.4f}, Test RANK {self.loss_test[it]:.4f}')\n",
    "            \n",
    "                print(f'Time per Iteration {datetime.now() - start_iter}')\n",
    "            elif self.print == False and it == self.n_iter -1:\n",
    "                print(f'Training RANK {self.loss[it]:.4f}, Test RANK {self.loss_test[it]:.4f}')\n",
    "            \n",
    "            \n",
    "        end = datetime.now()\n",
    "        if self.print:\n",
    "            print(f'Training time : {end-start}')\n",
    "        \n",
    "    def evaluate(self, type):\n",
    "        \n",
    "        if type == 'Train':\n",
    "            R = self.R\n",
    "            \n",
    "        else:\n",
    "            R = self.R_test\n",
    "\n",
    "        R_pred = self.pred_v()\n",
    "        \n",
    "        rank_mat = np.zeros(R_pred.shape)\n",
    "        \n",
    "        for u in range(self.no_user):\n",
    "            \n",
    "            pred_u = R_pred[u, :] * -1\n",
    "            rank = pred_u.argsort().argsort()\n",
    "            rank = rank / self.no_item\n",
    "            rank_mat[u, :] = rank\n",
    "\n",
    "        return np.sum(np.asarray(R) * rank_mat) / np.sum(R)\n",
    "    \n",
    "        "
   ]
  },
  {
   "cell_type": "code",
   "execution_count": 87,
   "id": "483f5daa",
   "metadata": {},
   "outputs": [],
   "source": [
    "model = OCCF(train, test, 30, print_each = True)"
   ]
  },
  {
   "cell_type": "code",
   "execution_count": 88,
   "id": "882ff31f",
   "metadata": {},
   "outputs": [
    {
     "name": "stdout",
     "output_type": "stream",
     "text": [
      "EPOCH 1 : TRAINING RANK 0.3332, VALID RANK 0.5241\n",
      "Time per Iteration 0:00:02.351312\n",
      "EPOCH 2 : TRAINING RANK 0.2262, VALID RANK 0.4191\n",
      "Time per Iteration 0:00:02.300014\n",
      "EPOCH 3 : TRAINING RANK 0.1935, VALID RANK 0.3817\n",
      "Time per Iteration 0:00:02.324877\n",
      "EPOCH 4 : TRAINING RANK 0.1821, VALID RANK 0.3595\n",
      "Time per Iteration 0:00:02.334275\n",
      "EPOCH 5 : TRAINING RANK 0.1753, VALID RANK 0.3431\n",
      "Time per Iteration 0:00:02.365521\n",
      "EPOCH 6 : TRAINING RANK 0.1697, VALID RANK 0.3295\n",
      "Time per Iteration 0:00:02.281304\n",
      "EPOCH 7 : TRAINING RANK 0.1652, VALID RANK 0.3175\n",
      "Time per Iteration 0:00:02.329826\n",
      "EPOCH 8 : TRAINING RANK 0.1605, VALID RANK 0.3051\n",
      "Time per Iteration 0:00:02.306954\n",
      "EPOCH 9 : TRAINING RANK 0.1564, VALID RANK 0.2947\n",
      "Time per Iteration 0:00:02.336657\n",
      "EPOCH 10 : TRAINING RANK 0.1530, VALID RANK 0.2871\n",
      "Time per Iteration 0:00:02.315315\n",
      "Training takes time 0:00:23.246506\n"
     ]
    }
   ],
   "source": [
    "model.optimize()"
   ]
  },
  {
   "cell_type": "code",
   "execution_count": 89,
   "id": "ee33159f",
   "metadata": {},
   "outputs": [
    {
     "name": "stdout",
     "output_type": "stream",
     "text": [
      "TRAINING RANK 0.1608, VALID RANK 0.2868\n",
      "TRAINING RANK 0.1498, VALID RANK 0.3500\n",
      "TRAINING RANK 0.1281, VALID RANK 0.3749\n",
      "TRAINING RANK 0.1022, VALID RANK 0.4092\n",
      "TRAINING RANK 0.0797, VALID RANK 0.4123\n",
      "TRAINING RANK 0.0644, VALID RANK 0.4226\n",
      "TRAINING RANK 0.0549, VALID RANK 0.4421\n",
      "TRAINING RANK 0.0491, VALID RANK 0.4441\n",
      "TRAINING RANK 0.0461, VALID RANK 0.4681\n",
      "TRAINING RANK 0.0447, VALID RANK 0.4694\n"
     ]
    }
   ],
   "source": [
    "for i in [20,40,60,80,100,120,140,160,180,200] : \n",
    "    model = OCCF(train, test, i, print_each=False)\n",
    "    model.optimize()"
   ]
  },
  {
   "cell_type": "code",
   "execution_count": null,
   "id": "d04eb97b",
   "metadata": {},
   "outputs": [],
   "source": []
  }
 ],
 "metadata": {
  "kernelspec": {
   "display_name": "Python 3 (ipykernel)",
   "language": "python",
   "name": "python3"
  },
  "language_info": {
   "codemirror_mode": {
    "name": "ipython",
    "version": 3
   },
   "file_extension": ".py",
   "mimetype": "text/x-python",
   "name": "python",
   "nbconvert_exporter": "python",
   "pygments_lexer": "ipython3",
   "version": "3.9.7"
  }
 },
 "nbformat": 4,
 "nbformat_minor": 5
}
